{
  "nbformat": 4,
  "nbformat_minor": 0,
  "metadata": {
    "colab": {
      "provenance": [],
      "mount_file_id": "1x2szOtklRQZPI8RtI_g5-RDZMXe0HtbR",
      "authorship_tag": "ABX9TyNL1kBsXuYIQ26WEmyaUCL2",
      "include_colab_link": true
    },
    "kernelspec": {
      "name": "python3",
      "display_name": "Python 3"
    },
    "language_info": {
      "name": "python"
    }
  },
  "cells": [
    {
      "cell_type": "markdown",
      "metadata": {
        "id": "view-in-github",
        "colab_type": "text"
      },
      "source": [
        "<a href=\"https://colab.research.google.com/github/onengis/Intro-to-programming-with-Nakov/blob/master/Copy_of_Omubo_Onengibofa_Project.ipynb\" target=\"_parent\"><img src=\"https://colab.research.google.com/assets/colab-badge.svg\" alt=\"Open In Colab\"/></a>"
      ]
    },
    {
      "cell_type": "code",
      "execution_count": 31,
      "metadata": {
        "id": "Txy-Ao8DfrTk"
      },
      "outputs": [],
      "source": [
        "import numpy as np\n",
        "import pandas as pd\n",
        "import matplotlib.pyplot as plt\n",
        "import seaborn as sns\n",
        "import sklearn"
      ]
    },
    {
      "cell_type": "code",
      "source": [],
      "metadata": {
        "colab": {
          "base_uri": "https://localhost:8080/",
          "height": 201
        },
        "id": "4LkRQyQkof-E",
        "outputId": "0f98858b-556c-469c-f789-c808b1b427b1"
      },
      "execution_count": null,
      "outputs": [
        {
          "output_type": "error",
          "ename": "NameError",
          "evalue": "ignored",
          "traceback": [
            "\u001b[0;31m---------------------------------------------------------------------------\u001b[0m",
            "\u001b[0;31mNameError\u001b[0m                                 Traceback (most recent call last)",
            "\u001b[0;32m<ipython-input-15-b0c687fa5b46>\u001b[0m in \u001b[0;36m<module>\u001b[0;34m\u001b[0m\n\u001b[1;32m      1\u001b[0m \u001b[0mfile_id\u001b[0m \u001b[0;34m=\u001b[0m \u001b[0;34m'https://docs.google.com/spreadsheets/d/1Sf_65xbvKTuZ5zGvppYUS3e1c1yLT-pH/edit#gid=234610782'\u001b[0m\u001b[0;34m\u001b[0m\u001b[0;34m\u001b[0m\u001b[0m\n\u001b[0;32m----> 2\u001b[0;31m \u001b[0mdownloaded\u001b[0m \u001b[0;34m=\u001b[0m \u001b[0mdrive\u001b[0m\u001b[0;34m.\u001b[0m\u001b[0mCreateFile\u001b[0m\u001b[0;34m(\u001b[0m\u001b[0;34m{\u001b[0m\u001b[0;34m'Oil well'\u001b[0m\u001b[0;34m:\u001b[0m \u001b[0mfile_id\u001b[0m\u001b[0;34m}\u001b[0m\u001b[0;34m)\u001b[0m\u001b[0;34m\u001b[0m\u001b[0;34m\u001b[0m\u001b[0m\n\u001b[0m\u001b[1;32m      3\u001b[0m \u001b[0mdownloaded\u001b[0m\u001b[0;34m.\u001b[0m\u001b[0mGetContentFile\u001b[0m\u001b[0;34m(\u001b[0m\u001b[0;34m'exported.xlsx'\u001b[0m\u001b[0;34m)\u001b[0m\u001b[0;34m\u001b[0m\u001b[0;34m\u001b[0m\u001b[0m\n",
            "\u001b[0;31mNameError\u001b[0m: name 'drive' is not defined"
          ]
        }
      ]
    },
    {
      "cell_type": "code",
      "source": [
        "import openpyxl\n",
        "PATH_TO_EXCEL_FILE = \"/content/drive/MyDrive/Oil well1.xlsx.xlsx\"\n",
        "!pip install -q xlrd\n",
        "df_train_data = pd.read_excel(PATH_TO_EXCEL_FILE)\n",
        "df_train_data"
      ],
      "metadata": {
        "colab": {
          "base_uri": "https://localhost:8080/",
          "height": 676
        },
        "id": "yg5oRhE_gVPC",
        "outputId": "498483b3-dcb5-4583-83a9-83e1498bd4a4"
      },
      "execution_count": 33,
      "outputs": [
        {
          "output_type": "execute_result",
          "data": {
            "text/plain": [
              "           Date  \\nOil volume (m3/day)  Volume of liquid (m3/day)  \\\n",
              "0    2013-01-01                   49.0                       70.0   \n",
              "1    2013-01-02                   49.0                       70.0   \n",
              "2    2013-01-03                   49.0                       70.0   \n",
              "3    2013-01-04                   49.0                       70.0   \n",
              "4    2013-01-05                   44.0                       70.0   \n",
              "...         ...                    ...                        ...   \n",
              "2934 2021-01-14                    6.0                       20.0   \n",
              "2935 2021-01-15                    6.0                       20.0   \n",
              "2936 2021-01-16                    6.0                       20.0   \n",
              "2937 2021-01-17                    6.0                       20.0   \n",
              "2938 2021-01-18                    5.0                       18.0   \n",
              "\n",
              "      \\nGas volume (m3/day)  Water volume (m3/day)  Water cut (%)   \\\n",
              "0                   13055.0                   21.0            29.0   \n",
              "1                   13055.0                   21.0            29.0   \n",
              "2                   13055.0                   21.0            29.0   \n",
              "3                   13055.0                   21.0            29.0   \n",
              "4                   11768.0                   26.0            36.0   \n",
              "...                     ...                    ...             ...   \n",
              "2934                 1593.0                   15.0            70.0   \n",
              "2935                 1593.0                   15.0            70.0   \n",
              "2936                 1583.0                   14.0            70.0   \n",
              "2937                 1573.0                   14.0            70.0   \n",
              "2938                 1418.0                   13.0            70.0   \n",
              "\n",
              "      \\nWorking hours  \\nDynamic level (m)  \\nReservoir pressure (atm)  \n",
              "0                24.0               1819.0                       214.0  \n",
              "1                24.0               1836.0                       214.0  \n",
              "2                24.0               1788.0                       214.0  \n",
              "3                24.0               1789.0                       214.0  \n",
              "4                24.0               1825.0                       214.0  \n",
              "...               ...                  ...                         ...  \n",
              "2934             16.0               2101.0                       100.0  \n",
              "2935             16.0               2113.0                       100.0  \n",
              "2936             16.0               2125.0                       100.0  \n",
              "2937             16.0               2125.0                       100.0  \n",
              "2938             15.0               2125.0                       100.0  \n",
              "\n",
              "[2939 rows x 9 columns]"
            ],
            "text/html": [
              "\n",
              "  <div id=\"df-7bde1471-2aa4-4d00-a766-61ccc673eff4\">\n",
              "    <div class=\"colab-df-container\">\n",
              "      <div>\n",
              "<style scoped>\n",
              "    .dataframe tbody tr th:only-of-type {\n",
              "        vertical-align: middle;\n",
              "    }\n",
              "\n",
              "    .dataframe tbody tr th {\n",
              "        vertical-align: top;\n",
              "    }\n",
              "\n",
              "    .dataframe thead th {\n",
              "        text-align: right;\n",
              "    }\n",
              "</style>\n",
              "<table border=\"1\" class=\"dataframe\">\n",
              "  <thead>\n",
              "    <tr style=\"text-align: right;\">\n",
              "      <th></th>\n",
              "      <th>Date</th>\n",
              "      <th>\\nOil volume (m3/day)</th>\n",
              "      <th>Volume of liquid (m3/day)</th>\n",
              "      <th>\\nGas volume (m3/day)</th>\n",
              "      <th>Water volume (m3/day)</th>\n",
              "      <th>Water cut (%)</th>\n",
              "      <th>\\nWorking hours</th>\n",
              "      <th>\\nDynamic level (m)</th>\n",
              "      <th>\\nReservoir pressure (atm)</th>\n",
              "    </tr>\n",
              "  </thead>\n",
              "  <tbody>\n",
              "    <tr>\n",
              "      <th>0</th>\n",
              "      <td>2013-01-01</td>\n",
              "      <td>49.0</td>\n",
              "      <td>70.0</td>\n",
              "      <td>13055.0</td>\n",
              "      <td>21.0</td>\n",
              "      <td>29.0</td>\n",
              "      <td>24.0</td>\n",
              "      <td>1819.0</td>\n",
              "      <td>214.0</td>\n",
              "    </tr>\n",
              "    <tr>\n",
              "      <th>1</th>\n",
              "      <td>2013-01-02</td>\n",
              "      <td>49.0</td>\n",
              "      <td>70.0</td>\n",
              "      <td>13055.0</td>\n",
              "      <td>21.0</td>\n",
              "      <td>29.0</td>\n",
              "      <td>24.0</td>\n",
              "      <td>1836.0</td>\n",
              "      <td>214.0</td>\n",
              "    </tr>\n",
              "    <tr>\n",
              "      <th>2</th>\n",
              "      <td>2013-01-03</td>\n",
              "      <td>49.0</td>\n",
              "      <td>70.0</td>\n",
              "      <td>13055.0</td>\n",
              "      <td>21.0</td>\n",
              "      <td>29.0</td>\n",
              "      <td>24.0</td>\n",
              "      <td>1788.0</td>\n",
              "      <td>214.0</td>\n",
              "    </tr>\n",
              "    <tr>\n",
              "      <th>3</th>\n",
              "      <td>2013-01-04</td>\n",
              "      <td>49.0</td>\n",
              "      <td>70.0</td>\n",
              "      <td>13055.0</td>\n",
              "      <td>21.0</td>\n",
              "      <td>29.0</td>\n",
              "      <td>24.0</td>\n",
              "      <td>1789.0</td>\n",
              "      <td>214.0</td>\n",
              "    </tr>\n",
              "    <tr>\n",
              "      <th>4</th>\n",
              "      <td>2013-01-05</td>\n",
              "      <td>44.0</td>\n",
              "      <td>70.0</td>\n",
              "      <td>11768.0</td>\n",
              "      <td>26.0</td>\n",
              "      <td>36.0</td>\n",
              "      <td>24.0</td>\n",
              "      <td>1825.0</td>\n",
              "      <td>214.0</td>\n",
              "    </tr>\n",
              "    <tr>\n",
              "      <th>...</th>\n",
              "      <td>...</td>\n",
              "      <td>...</td>\n",
              "      <td>...</td>\n",
              "      <td>...</td>\n",
              "      <td>...</td>\n",
              "      <td>...</td>\n",
              "      <td>...</td>\n",
              "      <td>...</td>\n",
              "      <td>...</td>\n",
              "    </tr>\n",
              "    <tr>\n",
              "      <th>2934</th>\n",
              "      <td>2021-01-14</td>\n",
              "      <td>6.0</td>\n",
              "      <td>20.0</td>\n",
              "      <td>1593.0</td>\n",
              "      <td>15.0</td>\n",
              "      <td>70.0</td>\n",
              "      <td>16.0</td>\n",
              "      <td>2101.0</td>\n",
              "      <td>100.0</td>\n",
              "    </tr>\n",
              "    <tr>\n",
              "      <th>2935</th>\n",
              "      <td>2021-01-15</td>\n",
              "      <td>6.0</td>\n",
              "      <td>20.0</td>\n",
              "      <td>1593.0</td>\n",
              "      <td>15.0</td>\n",
              "      <td>70.0</td>\n",
              "      <td>16.0</td>\n",
              "      <td>2113.0</td>\n",
              "      <td>100.0</td>\n",
              "    </tr>\n",
              "    <tr>\n",
              "      <th>2936</th>\n",
              "      <td>2021-01-16</td>\n",
              "      <td>6.0</td>\n",
              "      <td>20.0</td>\n",
              "      <td>1583.0</td>\n",
              "      <td>14.0</td>\n",
              "      <td>70.0</td>\n",
              "      <td>16.0</td>\n",
              "      <td>2125.0</td>\n",
              "      <td>100.0</td>\n",
              "    </tr>\n",
              "    <tr>\n",
              "      <th>2937</th>\n",
              "      <td>2021-01-17</td>\n",
              "      <td>6.0</td>\n",
              "      <td>20.0</td>\n",
              "      <td>1573.0</td>\n",
              "      <td>14.0</td>\n",
              "      <td>70.0</td>\n",
              "      <td>16.0</td>\n",
              "      <td>2125.0</td>\n",
              "      <td>100.0</td>\n",
              "    </tr>\n",
              "    <tr>\n",
              "      <th>2938</th>\n",
              "      <td>2021-01-18</td>\n",
              "      <td>5.0</td>\n",
              "      <td>18.0</td>\n",
              "      <td>1418.0</td>\n",
              "      <td>13.0</td>\n",
              "      <td>70.0</td>\n",
              "      <td>15.0</td>\n",
              "      <td>2125.0</td>\n",
              "      <td>100.0</td>\n",
              "    </tr>\n",
              "  </tbody>\n",
              "</table>\n",
              "<p>2939 rows × 9 columns</p>\n",
              "</div>\n",
              "      <button class=\"colab-df-convert\" onclick=\"convertToInteractive('df-7bde1471-2aa4-4d00-a766-61ccc673eff4')\"\n",
              "              title=\"Convert this dataframe to an interactive table.\"\n",
              "              style=\"display:none;\">\n",
              "        \n",
              "  <svg xmlns=\"http://www.w3.org/2000/svg\" height=\"24px\"viewBox=\"0 0 24 24\"\n",
              "       width=\"24px\">\n",
              "    <path d=\"M0 0h24v24H0V0z\" fill=\"none\"/>\n",
              "    <path d=\"M18.56 5.44l.94 2.06.94-2.06 2.06-.94-2.06-.94-.94-2.06-.94 2.06-2.06.94zm-11 1L8.5 8.5l.94-2.06 2.06-.94-2.06-.94L8.5 2.5l-.94 2.06-2.06.94zm10 10l.94 2.06.94-2.06 2.06-.94-2.06-.94-.94-2.06-.94 2.06-2.06.94z\"/><path d=\"M17.41 7.96l-1.37-1.37c-.4-.4-.92-.59-1.43-.59-.52 0-1.04.2-1.43.59L10.3 9.45l-7.72 7.72c-.78.78-.78 2.05 0 2.83L4 21.41c.39.39.9.59 1.41.59.51 0 1.02-.2 1.41-.59l7.78-7.78 2.81-2.81c.8-.78.8-2.07 0-2.86zM5.41 20L4 18.59l7.72-7.72 1.47 1.35L5.41 20z\"/>\n",
              "  </svg>\n",
              "      </button>\n",
              "      \n",
              "  <style>\n",
              "    .colab-df-container {\n",
              "      display:flex;\n",
              "      flex-wrap:wrap;\n",
              "      gap: 12px;\n",
              "    }\n",
              "\n",
              "    .colab-df-convert {\n",
              "      background-color: #E8F0FE;\n",
              "      border: none;\n",
              "      border-radius: 50%;\n",
              "      cursor: pointer;\n",
              "      display: none;\n",
              "      fill: #1967D2;\n",
              "      height: 32px;\n",
              "      padding: 0 0 0 0;\n",
              "      width: 32px;\n",
              "    }\n",
              "\n",
              "    .colab-df-convert:hover {\n",
              "      background-color: #E2EBFA;\n",
              "      box-shadow: 0px 1px 2px rgba(60, 64, 67, 0.3), 0px 1px 3px 1px rgba(60, 64, 67, 0.15);\n",
              "      fill: #174EA6;\n",
              "    }\n",
              "\n",
              "    [theme=dark] .colab-df-convert {\n",
              "      background-color: #3B4455;\n",
              "      fill: #D2E3FC;\n",
              "    }\n",
              "\n",
              "    [theme=dark] .colab-df-convert:hover {\n",
              "      background-color: #434B5C;\n",
              "      box-shadow: 0px 1px 3px 1px rgba(0, 0, 0, 0.15);\n",
              "      filter: drop-shadow(0px 1px 2px rgba(0, 0, 0, 0.3));\n",
              "      fill: #FFFFFF;\n",
              "    }\n",
              "  </style>\n",
              "\n",
              "      <script>\n",
              "        const buttonEl =\n",
              "          document.querySelector('#df-7bde1471-2aa4-4d00-a766-61ccc673eff4 button.colab-df-convert');\n",
              "        buttonEl.style.display =\n",
              "          google.colab.kernel.accessAllowed ? 'block' : 'none';\n",
              "\n",
              "        async function convertToInteractive(key) {\n",
              "          const element = document.querySelector('#df-7bde1471-2aa4-4d00-a766-61ccc673eff4');\n",
              "          const dataTable =\n",
              "            await google.colab.kernel.invokeFunction('convertToInteractive',\n",
              "                                                     [key], {});\n",
              "          if (!dataTable) return;\n",
              "\n",
              "          const docLinkHtml = 'Like what you see? Visit the ' +\n",
              "            '<a target=\"_blank\" href=https://colab.research.google.com/notebooks/data_table.ipynb>data table notebook</a>'\n",
              "            + ' to learn more about interactive tables.';\n",
              "          element.innerHTML = '';\n",
              "          dataTable['output_type'] = 'display_data';\n",
              "          await google.colab.output.renderOutput(dataTable, element);\n",
              "          const docLink = document.createElement('div');\n",
              "          docLink.innerHTML = docLinkHtml;\n",
              "          element.appendChild(docLink);\n",
              "        }\n",
              "      </script>\n",
              "    </div>\n",
              "  </div>\n",
              "  "
            ]
          },
          "metadata": {},
          "execution_count": 33
        }
      ]
    },
    {
      "cell_type": "code",
      "source": [
        "df_train_data.head(10)"
      ],
      "metadata": {
        "colab": {
          "base_uri": "https://localhost:8080/",
          "height": 615
        },
        "id": "1HW4wzb883v-",
        "outputId": "9e481766-cb21-4448-9de0-6447ba7952cd"
      },
      "execution_count": 38,
      "outputs": [
        {
          "output_type": "execute_result",
          "data": {
            "text/plain": [
              "        Date  \\nOil volume (m3/day)  Volume of liquid (m3/day)  \\\n",
              "0 2013-01-01                   49.0                       70.0   \n",
              "1 2013-01-02                   49.0                       70.0   \n",
              "2 2013-01-03                   49.0                       70.0   \n",
              "3 2013-01-04                   49.0                       70.0   \n",
              "4 2013-01-05                   44.0                       70.0   \n",
              "5 2013-01-06                   44.0                       70.0   \n",
              "6 2013-01-07                   43.0                       68.0   \n",
              "7 2013-01-08                   43.0                       68.0   \n",
              "8 2013-01-09                   43.0                       68.0   \n",
              "9 2013-01-10                   43.0                       68.0   \n",
              "\n",
              "   \\nGas volume (m3/day)  Water volume (m3/day)  Water cut (%)   \\\n",
              "0                13055.0                   21.0            29.0   \n",
              "1                13055.0                   21.0            29.0   \n",
              "2                13055.0                   21.0            29.0   \n",
              "3                13055.0                   21.0            29.0   \n",
              "4                11768.0                   26.0            36.0   \n",
              "5                11768.0                   26.0            36.0   \n",
              "6                11432.0                   25.0            36.0   \n",
              "7                11432.0                   25.0            36.0   \n",
              "8                11432.0                   25.0            36.0   \n",
              "9                11432.0                   25.0            36.0   \n",
              "\n",
              "   \\nWorking hours  \\nDynamic level (m)  \\nReservoir pressure (atm)  \n",
              "0             24.0               1819.0                       214.0  \n",
              "1             24.0               1836.0                       214.0  \n",
              "2             24.0               1788.0                       214.0  \n",
              "3             24.0               1789.0                       214.0  \n",
              "4             24.0               1825.0                       214.0  \n",
              "5             24.0               1781.0                       214.0  \n",
              "6             24.0               1790.0                       214.0  \n",
              "7             24.0               1784.0                       214.0  \n",
              "8             24.0               1831.0                       214.0  \n",
              "9             24.0               1831.0                       214.0  "
            ],
            "text/html": [
              "\n",
              "  <div id=\"df-7198e5c3-1c37-4f83-b490-79d9be985481\">\n",
              "    <div class=\"colab-df-container\">\n",
              "      <div>\n",
              "<style scoped>\n",
              "    .dataframe tbody tr th:only-of-type {\n",
              "        vertical-align: middle;\n",
              "    }\n",
              "\n",
              "    .dataframe tbody tr th {\n",
              "        vertical-align: top;\n",
              "    }\n",
              "\n",
              "    .dataframe thead th {\n",
              "        text-align: right;\n",
              "    }\n",
              "</style>\n",
              "<table border=\"1\" class=\"dataframe\">\n",
              "  <thead>\n",
              "    <tr style=\"text-align: right;\">\n",
              "      <th></th>\n",
              "      <th>Date</th>\n",
              "      <th>\\nOil volume (m3/day)</th>\n",
              "      <th>Volume of liquid (m3/day)</th>\n",
              "      <th>\\nGas volume (m3/day)</th>\n",
              "      <th>Water volume (m3/day)</th>\n",
              "      <th>Water cut (%)</th>\n",
              "      <th>\\nWorking hours</th>\n",
              "      <th>\\nDynamic level (m)</th>\n",
              "      <th>\\nReservoir pressure (atm)</th>\n",
              "    </tr>\n",
              "  </thead>\n",
              "  <tbody>\n",
              "    <tr>\n",
              "      <th>0</th>\n",
              "      <td>2013-01-01</td>\n",
              "      <td>49.0</td>\n",
              "      <td>70.0</td>\n",
              "      <td>13055.0</td>\n",
              "      <td>21.0</td>\n",
              "      <td>29.0</td>\n",
              "      <td>24.0</td>\n",
              "      <td>1819.0</td>\n",
              "      <td>214.0</td>\n",
              "    </tr>\n",
              "    <tr>\n",
              "      <th>1</th>\n",
              "      <td>2013-01-02</td>\n",
              "      <td>49.0</td>\n",
              "      <td>70.0</td>\n",
              "      <td>13055.0</td>\n",
              "      <td>21.0</td>\n",
              "      <td>29.0</td>\n",
              "      <td>24.0</td>\n",
              "      <td>1836.0</td>\n",
              "      <td>214.0</td>\n",
              "    </tr>\n",
              "    <tr>\n",
              "      <th>2</th>\n",
              "      <td>2013-01-03</td>\n",
              "      <td>49.0</td>\n",
              "      <td>70.0</td>\n",
              "      <td>13055.0</td>\n",
              "      <td>21.0</td>\n",
              "      <td>29.0</td>\n",
              "      <td>24.0</td>\n",
              "      <td>1788.0</td>\n",
              "      <td>214.0</td>\n",
              "    </tr>\n",
              "    <tr>\n",
              "      <th>3</th>\n",
              "      <td>2013-01-04</td>\n",
              "      <td>49.0</td>\n",
              "      <td>70.0</td>\n",
              "      <td>13055.0</td>\n",
              "      <td>21.0</td>\n",
              "      <td>29.0</td>\n",
              "      <td>24.0</td>\n",
              "      <td>1789.0</td>\n",
              "      <td>214.0</td>\n",
              "    </tr>\n",
              "    <tr>\n",
              "      <th>4</th>\n",
              "      <td>2013-01-05</td>\n",
              "      <td>44.0</td>\n",
              "      <td>70.0</td>\n",
              "      <td>11768.0</td>\n",
              "      <td>26.0</td>\n",
              "      <td>36.0</td>\n",
              "      <td>24.0</td>\n",
              "      <td>1825.0</td>\n",
              "      <td>214.0</td>\n",
              "    </tr>\n",
              "    <tr>\n",
              "      <th>5</th>\n",
              "      <td>2013-01-06</td>\n",
              "      <td>44.0</td>\n",
              "      <td>70.0</td>\n",
              "      <td>11768.0</td>\n",
              "      <td>26.0</td>\n",
              "      <td>36.0</td>\n",
              "      <td>24.0</td>\n",
              "      <td>1781.0</td>\n",
              "      <td>214.0</td>\n",
              "    </tr>\n",
              "    <tr>\n",
              "      <th>6</th>\n",
              "      <td>2013-01-07</td>\n",
              "      <td>43.0</td>\n",
              "      <td>68.0</td>\n",
              "      <td>11432.0</td>\n",
              "      <td>25.0</td>\n",
              "      <td>36.0</td>\n",
              "      <td>24.0</td>\n",
              "      <td>1790.0</td>\n",
              "      <td>214.0</td>\n",
              "    </tr>\n",
              "    <tr>\n",
              "      <th>7</th>\n",
              "      <td>2013-01-08</td>\n",
              "      <td>43.0</td>\n",
              "      <td>68.0</td>\n",
              "      <td>11432.0</td>\n",
              "      <td>25.0</td>\n",
              "      <td>36.0</td>\n",
              "      <td>24.0</td>\n",
              "      <td>1784.0</td>\n",
              "      <td>214.0</td>\n",
              "    </tr>\n",
              "    <tr>\n",
              "      <th>8</th>\n",
              "      <td>2013-01-09</td>\n",
              "      <td>43.0</td>\n",
              "      <td>68.0</td>\n",
              "      <td>11432.0</td>\n",
              "      <td>25.0</td>\n",
              "      <td>36.0</td>\n",
              "      <td>24.0</td>\n",
              "      <td>1831.0</td>\n",
              "      <td>214.0</td>\n",
              "    </tr>\n",
              "    <tr>\n",
              "      <th>9</th>\n",
              "      <td>2013-01-10</td>\n",
              "      <td>43.0</td>\n",
              "      <td>68.0</td>\n",
              "      <td>11432.0</td>\n",
              "      <td>25.0</td>\n",
              "      <td>36.0</td>\n",
              "      <td>24.0</td>\n",
              "      <td>1831.0</td>\n",
              "      <td>214.0</td>\n",
              "    </tr>\n",
              "  </tbody>\n",
              "</table>\n",
              "</div>\n",
              "      <button class=\"colab-df-convert\" onclick=\"convertToInteractive('df-7198e5c3-1c37-4f83-b490-79d9be985481')\"\n",
              "              title=\"Convert this dataframe to an interactive table.\"\n",
              "              style=\"display:none;\">\n",
              "        \n",
              "  <svg xmlns=\"http://www.w3.org/2000/svg\" height=\"24px\"viewBox=\"0 0 24 24\"\n",
              "       width=\"24px\">\n",
              "    <path d=\"M0 0h24v24H0V0z\" fill=\"none\"/>\n",
              "    <path d=\"M18.56 5.44l.94 2.06.94-2.06 2.06-.94-2.06-.94-.94-2.06-.94 2.06-2.06.94zm-11 1L8.5 8.5l.94-2.06 2.06-.94-2.06-.94L8.5 2.5l-.94 2.06-2.06.94zm10 10l.94 2.06.94-2.06 2.06-.94-2.06-.94-.94-2.06-.94 2.06-2.06.94z\"/><path d=\"M17.41 7.96l-1.37-1.37c-.4-.4-.92-.59-1.43-.59-.52 0-1.04.2-1.43.59L10.3 9.45l-7.72 7.72c-.78.78-.78 2.05 0 2.83L4 21.41c.39.39.9.59 1.41.59.51 0 1.02-.2 1.41-.59l7.78-7.78 2.81-2.81c.8-.78.8-2.07 0-2.86zM5.41 20L4 18.59l7.72-7.72 1.47 1.35L5.41 20z\"/>\n",
              "  </svg>\n",
              "      </button>\n",
              "      \n",
              "  <style>\n",
              "    .colab-df-container {\n",
              "      display:flex;\n",
              "      flex-wrap:wrap;\n",
              "      gap: 12px;\n",
              "    }\n",
              "\n",
              "    .colab-df-convert {\n",
              "      background-color: #E8F0FE;\n",
              "      border: none;\n",
              "      border-radius: 50%;\n",
              "      cursor: pointer;\n",
              "      display: none;\n",
              "      fill: #1967D2;\n",
              "      height: 32px;\n",
              "      padding: 0 0 0 0;\n",
              "      width: 32px;\n",
              "    }\n",
              "\n",
              "    .colab-df-convert:hover {\n",
              "      background-color: #E2EBFA;\n",
              "      box-shadow: 0px 1px 2px rgba(60, 64, 67, 0.3), 0px 1px 3px 1px rgba(60, 64, 67, 0.15);\n",
              "      fill: #174EA6;\n",
              "    }\n",
              "\n",
              "    [theme=dark] .colab-df-convert {\n",
              "      background-color: #3B4455;\n",
              "      fill: #D2E3FC;\n",
              "    }\n",
              "\n",
              "    [theme=dark] .colab-df-convert:hover {\n",
              "      background-color: #434B5C;\n",
              "      box-shadow: 0px 1px 3px 1px rgba(0, 0, 0, 0.15);\n",
              "      filter: drop-shadow(0px 1px 2px rgba(0, 0, 0, 0.3));\n",
              "      fill: #FFFFFF;\n",
              "    }\n",
              "  </style>\n",
              "\n",
              "      <script>\n",
              "        const buttonEl =\n",
              "          document.querySelector('#df-7198e5c3-1c37-4f83-b490-79d9be985481 button.colab-df-convert');\n",
              "        buttonEl.style.display =\n",
              "          google.colab.kernel.accessAllowed ? 'block' : 'none';\n",
              "\n",
              "        async function convertToInteractive(key) {\n",
              "          const element = document.querySelector('#df-7198e5c3-1c37-4f83-b490-79d9be985481');\n",
              "          const dataTable =\n",
              "            await google.colab.kernel.invokeFunction('convertToInteractive',\n",
              "                                                     [key], {});\n",
              "          if (!dataTable) return;\n",
              "\n",
              "          const docLinkHtml = 'Like what you see? Visit the ' +\n",
              "            '<a target=\"_blank\" href=https://colab.research.google.com/notebooks/data_table.ipynb>data table notebook</a>'\n",
              "            + ' to learn more about interactive tables.';\n",
              "          element.innerHTML = '';\n",
              "          dataTable['output_type'] = 'display_data';\n",
              "          await google.colab.output.renderOutput(dataTable, element);\n",
              "          const docLink = document.createElement('div');\n",
              "          docLink.innerHTML = docLinkHtml;\n",
              "          element.appendChild(docLink);\n",
              "        }\n",
              "      </script>\n",
              "    </div>\n",
              "  </div>\n",
              "  "
            ]
          },
          "metadata": {},
          "execution_count": 38
        }
      ]
    },
    {
      "cell_type": "code",
      "source": [
        "df_train_data.tail(10)"
      ],
      "metadata": {
        "colab": {
          "base_uri": "https://localhost:8080/",
          "height": 615
        },
        "id": "Tv5CUnJ95KmM",
        "outputId": "8f95f814-0ddb-47fb-8999-7bf1a8aed88f"
      },
      "execution_count": 39,
      "outputs": [
        {
          "output_type": "execute_result",
          "data": {
            "text/plain": [
              "           Date  \\nOil volume (m3/day)  Volume of liquid (m3/day)  \\\n",
              "2929 2021-01-09                    5.0                       19.0   \n",
              "2930 2021-01-10                    6.0                       20.0   \n",
              "2931 2021-01-11                    5.0                       20.0   \n",
              "2932 2021-01-12                    5.0                       18.0   \n",
              "2933 2021-01-13                    5.0                       18.0   \n",
              "2934 2021-01-14                    6.0                       20.0   \n",
              "2935 2021-01-15                    6.0                       20.0   \n",
              "2936 2021-01-16                    6.0                       20.0   \n",
              "2937 2021-01-17                    6.0                       20.0   \n",
              "2938 2021-01-18                    5.0                       18.0   \n",
              "\n",
              "      \\nGas volume (m3/day)  Water volume (m3/day)  Water cut (%)   \\\n",
              "2929                 1446.0                   14.0            71.0   \n",
              "2930                 1521.0                   15.0            71.0   \n",
              "2931                 1474.0                   14.0            71.0   \n",
              "2932                 1399.0                   13.0            70.0   \n",
              "2933                 1408.0                   13.0            70.0   \n",
              "2934                 1593.0                   15.0            70.0   \n",
              "2935                 1593.0                   15.0            70.0   \n",
              "2936                 1583.0                   14.0            70.0   \n",
              "2937                 1573.0                   14.0            70.0   \n",
              "2938                 1418.0                   13.0            70.0   \n",
              "\n",
              "      \\nWorking hours  \\nDynamic level (m)  \\nReservoir pressure (atm)  \n",
              "2929             15.0               2101.0                       100.0  \n",
              "2930             16.0               2113.0                       100.0  \n",
              "2931             16.0               2137.0                       100.0  \n",
              "2932             14.0               2137.0                       100.0  \n",
              "2933             15.0               2113.0                       100.0  \n",
              "2934             16.0               2101.0                       100.0  \n",
              "2935             16.0               2113.0                       100.0  \n",
              "2936             16.0               2125.0                       100.0  \n",
              "2937             16.0               2125.0                       100.0  \n",
              "2938             15.0               2125.0                       100.0  "
            ],
            "text/html": [
              "\n",
              "  <div id=\"df-10286233-ba72-45e6-a31f-e5d70fc72898\">\n",
              "    <div class=\"colab-df-container\">\n",
              "      <div>\n",
              "<style scoped>\n",
              "    .dataframe tbody tr th:only-of-type {\n",
              "        vertical-align: middle;\n",
              "    }\n",
              "\n",
              "    .dataframe tbody tr th {\n",
              "        vertical-align: top;\n",
              "    }\n",
              "\n",
              "    .dataframe thead th {\n",
              "        text-align: right;\n",
              "    }\n",
              "</style>\n",
              "<table border=\"1\" class=\"dataframe\">\n",
              "  <thead>\n",
              "    <tr style=\"text-align: right;\">\n",
              "      <th></th>\n",
              "      <th>Date</th>\n",
              "      <th>\\nOil volume (m3/day)</th>\n",
              "      <th>Volume of liquid (m3/day)</th>\n",
              "      <th>\\nGas volume (m3/day)</th>\n",
              "      <th>Water volume (m3/day)</th>\n",
              "      <th>Water cut (%)</th>\n",
              "      <th>\\nWorking hours</th>\n",
              "      <th>\\nDynamic level (m)</th>\n",
              "      <th>\\nReservoir pressure (atm)</th>\n",
              "    </tr>\n",
              "  </thead>\n",
              "  <tbody>\n",
              "    <tr>\n",
              "      <th>2929</th>\n",
              "      <td>2021-01-09</td>\n",
              "      <td>5.0</td>\n",
              "      <td>19.0</td>\n",
              "      <td>1446.0</td>\n",
              "      <td>14.0</td>\n",
              "      <td>71.0</td>\n",
              "      <td>15.0</td>\n",
              "      <td>2101.0</td>\n",
              "      <td>100.0</td>\n",
              "    </tr>\n",
              "    <tr>\n",
              "      <th>2930</th>\n",
              "      <td>2021-01-10</td>\n",
              "      <td>6.0</td>\n",
              "      <td>20.0</td>\n",
              "      <td>1521.0</td>\n",
              "      <td>15.0</td>\n",
              "      <td>71.0</td>\n",
              "      <td>16.0</td>\n",
              "      <td>2113.0</td>\n",
              "      <td>100.0</td>\n",
              "    </tr>\n",
              "    <tr>\n",
              "      <th>2931</th>\n",
              "      <td>2021-01-11</td>\n",
              "      <td>5.0</td>\n",
              "      <td>20.0</td>\n",
              "      <td>1474.0</td>\n",
              "      <td>14.0</td>\n",
              "      <td>71.0</td>\n",
              "      <td>16.0</td>\n",
              "      <td>2137.0</td>\n",
              "      <td>100.0</td>\n",
              "    </tr>\n",
              "    <tr>\n",
              "      <th>2932</th>\n",
              "      <td>2021-01-12</td>\n",
              "      <td>5.0</td>\n",
              "      <td>18.0</td>\n",
              "      <td>1399.0</td>\n",
              "      <td>13.0</td>\n",
              "      <td>70.0</td>\n",
              "      <td>14.0</td>\n",
              "      <td>2137.0</td>\n",
              "      <td>100.0</td>\n",
              "    </tr>\n",
              "    <tr>\n",
              "      <th>2933</th>\n",
              "      <td>2021-01-13</td>\n",
              "      <td>5.0</td>\n",
              "      <td>18.0</td>\n",
              "      <td>1408.0</td>\n",
              "      <td>13.0</td>\n",
              "      <td>70.0</td>\n",
              "      <td>15.0</td>\n",
              "      <td>2113.0</td>\n",
              "      <td>100.0</td>\n",
              "    </tr>\n",
              "    <tr>\n",
              "      <th>2934</th>\n",
              "      <td>2021-01-14</td>\n",
              "      <td>6.0</td>\n",
              "      <td>20.0</td>\n",
              "      <td>1593.0</td>\n",
              "      <td>15.0</td>\n",
              "      <td>70.0</td>\n",
              "      <td>16.0</td>\n",
              "      <td>2101.0</td>\n",
              "      <td>100.0</td>\n",
              "    </tr>\n",
              "    <tr>\n",
              "      <th>2935</th>\n",
              "      <td>2021-01-15</td>\n",
              "      <td>6.0</td>\n",
              "      <td>20.0</td>\n",
              "      <td>1593.0</td>\n",
              "      <td>15.0</td>\n",
              "      <td>70.0</td>\n",
              "      <td>16.0</td>\n",
              "      <td>2113.0</td>\n",
              "      <td>100.0</td>\n",
              "    </tr>\n",
              "    <tr>\n",
              "      <th>2936</th>\n",
              "      <td>2021-01-16</td>\n",
              "      <td>6.0</td>\n",
              "      <td>20.0</td>\n",
              "      <td>1583.0</td>\n",
              "      <td>14.0</td>\n",
              "      <td>70.0</td>\n",
              "      <td>16.0</td>\n",
              "      <td>2125.0</td>\n",
              "      <td>100.0</td>\n",
              "    </tr>\n",
              "    <tr>\n",
              "      <th>2937</th>\n",
              "      <td>2021-01-17</td>\n",
              "      <td>6.0</td>\n",
              "      <td>20.0</td>\n",
              "      <td>1573.0</td>\n",
              "      <td>14.0</td>\n",
              "      <td>70.0</td>\n",
              "      <td>16.0</td>\n",
              "      <td>2125.0</td>\n",
              "      <td>100.0</td>\n",
              "    </tr>\n",
              "    <tr>\n",
              "      <th>2938</th>\n",
              "      <td>2021-01-18</td>\n",
              "      <td>5.0</td>\n",
              "      <td>18.0</td>\n",
              "      <td>1418.0</td>\n",
              "      <td>13.0</td>\n",
              "      <td>70.0</td>\n",
              "      <td>15.0</td>\n",
              "      <td>2125.0</td>\n",
              "      <td>100.0</td>\n",
              "    </tr>\n",
              "  </tbody>\n",
              "</table>\n",
              "</div>\n",
              "      <button class=\"colab-df-convert\" onclick=\"convertToInteractive('df-10286233-ba72-45e6-a31f-e5d70fc72898')\"\n",
              "              title=\"Convert this dataframe to an interactive table.\"\n",
              "              style=\"display:none;\">\n",
              "        \n",
              "  <svg xmlns=\"http://www.w3.org/2000/svg\" height=\"24px\"viewBox=\"0 0 24 24\"\n",
              "       width=\"24px\">\n",
              "    <path d=\"M0 0h24v24H0V0z\" fill=\"none\"/>\n",
              "    <path d=\"M18.56 5.44l.94 2.06.94-2.06 2.06-.94-2.06-.94-.94-2.06-.94 2.06-2.06.94zm-11 1L8.5 8.5l.94-2.06 2.06-.94-2.06-.94L8.5 2.5l-.94 2.06-2.06.94zm10 10l.94 2.06.94-2.06 2.06-.94-2.06-.94-.94-2.06-.94 2.06-2.06.94z\"/><path d=\"M17.41 7.96l-1.37-1.37c-.4-.4-.92-.59-1.43-.59-.52 0-1.04.2-1.43.59L10.3 9.45l-7.72 7.72c-.78.78-.78 2.05 0 2.83L4 21.41c.39.39.9.59 1.41.59.51 0 1.02-.2 1.41-.59l7.78-7.78 2.81-2.81c.8-.78.8-2.07 0-2.86zM5.41 20L4 18.59l7.72-7.72 1.47 1.35L5.41 20z\"/>\n",
              "  </svg>\n",
              "      </button>\n",
              "      \n",
              "  <style>\n",
              "    .colab-df-container {\n",
              "      display:flex;\n",
              "      flex-wrap:wrap;\n",
              "      gap: 12px;\n",
              "    }\n",
              "\n",
              "    .colab-df-convert {\n",
              "      background-color: #E8F0FE;\n",
              "      border: none;\n",
              "      border-radius: 50%;\n",
              "      cursor: pointer;\n",
              "      display: none;\n",
              "      fill: #1967D2;\n",
              "      height: 32px;\n",
              "      padding: 0 0 0 0;\n",
              "      width: 32px;\n",
              "    }\n",
              "\n",
              "    .colab-df-convert:hover {\n",
              "      background-color: #E2EBFA;\n",
              "      box-shadow: 0px 1px 2px rgba(60, 64, 67, 0.3), 0px 1px 3px 1px rgba(60, 64, 67, 0.15);\n",
              "      fill: #174EA6;\n",
              "    }\n",
              "\n",
              "    [theme=dark] .colab-df-convert {\n",
              "      background-color: #3B4455;\n",
              "      fill: #D2E3FC;\n",
              "    }\n",
              "\n",
              "    [theme=dark] .colab-df-convert:hover {\n",
              "      background-color: #434B5C;\n",
              "      box-shadow: 0px 1px 3px 1px rgba(0, 0, 0, 0.15);\n",
              "      filter: drop-shadow(0px 1px 2px rgba(0, 0, 0, 0.3));\n",
              "      fill: #FFFFFF;\n",
              "    }\n",
              "  </style>\n",
              "\n",
              "      <script>\n",
              "        const buttonEl =\n",
              "          document.querySelector('#df-10286233-ba72-45e6-a31f-e5d70fc72898 button.colab-df-convert');\n",
              "        buttonEl.style.display =\n",
              "          google.colab.kernel.accessAllowed ? 'block' : 'none';\n",
              "\n",
              "        async function convertToInteractive(key) {\n",
              "          const element = document.querySelector('#df-10286233-ba72-45e6-a31f-e5d70fc72898');\n",
              "          const dataTable =\n",
              "            await google.colab.kernel.invokeFunction('convertToInteractive',\n",
              "                                                     [key], {});\n",
              "          if (!dataTable) return;\n",
              "\n",
              "          const docLinkHtml = 'Like what you see? Visit the ' +\n",
              "            '<a target=\"_blank\" href=https://colab.research.google.com/notebooks/data_table.ipynb>data table notebook</a>'\n",
              "            + ' to learn more about interactive tables.';\n",
              "          element.innerHTML = '';\n",
              "          dataTable['output_type'] = 'display_data';\n",
              "          await google.colab.output.renderOutput(dataTable, element);\n",
              "          const docLink = document.createElement('div');\n",
              "          docLink.innerHTML = docLinkHtml;\n",
              "          element.appendChild(docLink);\n",
              "        }\n",
              "      </script>\n",
              "    </div>\n",
              "  </div>\n",
              "  "
            ]
          },
          "metadata": {},
          "execution_count": 39
        }
      ]
    },
    {
      "cell_type": "code",
      "source": [
        "df_train_data.describe"
      ],
      "metadata": {
        "id": "q9cwl1C8-Zke",
        "colab": {
          "base_uri": "https://localhost:8080/"
        },
        "outputId": "294a436d-3e7f-4db7-d58a-e5248f369924"
      },
      "execution_count": 101,
      "outputs": [
        {
          "output_type": "execute_result",
          "data": {
            "text/plain": [
              "<bound method NDFrame.describe of            Date  \\nOil volume (m3/day)  Volume of liquid (m3/day)  \\\n",
              "0    2013-01-01                   49.0                       70.0   \n",
              "1    2013-01-02                   49.0                       70.0   \n",
              "2    2013-01-03                   49.0                       70.0   \n",
              "3    2013-01-04                   49.0                       70.0   \n",
              "4    2013-01-05                   44.0                       70.0   \n",
              "...         ...                    ...                        ...   \n",
              "2934 2021-01-14                    6.0                       20.0   \n",
              "2935 2021-01-15                    6.0                       20.0   \n",
              "2936 2021-01-16                    6.0                       20.0   \n",
              "2937 2021-01-17                    6.0                       20.0   \n",
              "2938 2021-01-18                    5.0                       18.0   \n",
              "\n",
              "      \\nGas volume (m3/day)  Water volume (m3/day)  Water cut (%)   \\\n",
              "0                   13055.0                   21.0            29.0   \n",
              "1                   13055.0                   21.0            29.0   \n",
              "2                   13055.0                   21.0            29.0   \n",
              "3                   13055.0                   21.0            29.0   \n",
              "4                   11768.0                   26.0            36.0   \n",
              "...                     ...                    ...             ...   \n",
              "2934                 1593.0                   15.0            70.0   \n",
              "2935                 1593.0                   15.0            70.0   \n",
              "2936                 1583.0                   14.0            70.0   \n",
              "2937                 1573.0                   14.0            70.0   \n",
              "2938                 1418.0                   13.0            70.0   \n",
              "\n",
              "      \\nWorking hours  \\nDynamic level (m)  \\nReservoir pressure (atm)  \n",
              "0                24.0               1819.0                       214.0  \n",
              "1                24.0               1836.0                       214.0  \n",
              "2                24.0               1788.0                       214.0  \n",
              "3                24.0               1789.0                       214.0  \n",
              "4                24.0               1825.0                       214.0  \n",
              "...               ...                  ...                         ...  \n",
              "2934             16.0               2101.0                       100.0  \n",
              "2935             16.0               2113.0                       100.0  \n",
              "2936             16.0               2125.0                       100.0  \n",
              "2937             16.0               2125.0                       100.0  \n",
              "2938             15.0               2125.0                       100.0  \n",
              "\n",
              "[2939 rows x 9 columns]>"
            ]
          },
          "metadata": {},
          "execution_count": 101
        }
      ]
    },
    {
      "cell_type": "code",
      "source": [
        "df_train_data.describe(include = \"all\")"
      ],
      "metadata": {
        "colab": {
          "base_uri": "https://localhost:8080/",
          "height": 695
        },
        "id": "s1eP8kVHu5iL",
        "outputId": "2aa4eaba-4c53-407a-8ddd-4e0e41c2a83b"
      },
      "execution_count": 102,
      "outputs": [
        {
          "output_type": "stream",
          "name": "stderr",
          "text": [
            "/usr/local/lib/python3.7/dist-packages/ipykernel_launcher.py:1: FutureWarning: Treating datetime data as categorical rather than numeric in `.describe` is deprecated and will be removed in a future version of pandas. Specify `datetime_is_numeric=True` to silence this warning and adopt the future behavior now.\n",
            "  \"\"\"Entry point for launching an IPython kernel.\n"
          ]
        },
        {
          "output_type": "execute_result",
          "data": {
            "text/plain": [
              "                       Date  \\nOil volume (m3/day)  Volume of liquid (m3/day)  \\\n",
              "count                  2939            2939.000000                2939.000000   \n",
              "unique                 2939                    NaN                        NaN   \n",
              "top     2013-01-01 00:00:00                    NaN                        NaN   \n",
              "freq                      1                    NaN                        NaN   \n",
              "first   2013-01-01 00:00:00                    NaN                        NaN   \n",
              "last    2021-01-18 00:00:00                    NaN                        NaN   \n",
              "mean                    NaN              17.624362                  59.464103   \n",
              "std                     NaN               9.689026                  18.634101   \n",
              "min                     NaN               0.000000                  12.000000   \n",
              "25%                     NaN              11.000000                  50.000000   \n",
              "50%                     NaN              15.000000                  58.000000   \n",
              "75%                     NaN              22.000000                  74.000000   \n",
              "max                     NaN              49.000000                 113.000000   \n",
              "\n",
              "        \\nGas volume (m3/day)  Water volume (m3/day)  Water cut (%)   \\\n",
              "count             2939.000000            2939.000000     2939.000000   \n",
              "unique                    NaN                    NaN             NaN   \n",
              "top                       NaN                    NaN             NaN   \n",
              "freq                      NaN                    NaN             NaN   \n",
              "first                     NaN                    NaN             NaN   \n",
              "last                      NaN                    NaN             NaN   \n",
              "mean              4730.146308              41.828853       70.694794   \n",
              "std               2598.888524              13.056625        9.534203   \n",
              "min                  4.000000               9.000000       29.000000   \n",
              "25%               3041.500000              33.000000       69.000000   \n",
              "50%               3909.000000              43.000000       73.000000   \n",
              "75%               5843.500000              50.000000       76.000000   \n",
              "max              13113.000000              99.000000      100.000000   \n",
              "\n",
              "        \\nWorking hours  \\nDynamic level (m)  \\nReservoir pressure (atm)  \n",
              "count       2939.000000          2939.000000                 2939.000000  \n",
              "unique              NaN                  NaN                         NaN  \n",
              "top                 NaN                  NaN                         NaN  \n",
              "freq                NaN                  NaN                         NaN  \n",
              "first               NaN                  NaN                         NaN  \n",
              "last                NaN                  NaN                         NaN  \n",
              "mean          22.344675          1930.383464                  157.019054  \n",
              "std            3.039553           114.543752                   32.917150  \n",
              "min            7.000000          1529.000000                  100.000000  \n",
              "25%           22.000000          1855.000000                  129.000000  \n",
              "50%           24.000000          1890.000000                  157.000000  \n",
              "75%           24.000000          2008.000000                  185.500000  \n",
              "max           24.000000          2137.000000                  214.000000  "
            ],
            "text/html": [
              "\n",
              "  <div id=\"df-fb6cf6c4-f89c-4cc9-9dc5-b789a7e59ced\">\n",
              "    <div class=\"colab-df-container\">\n",
              "      <div>\n",
              "<style scoped>\n",
              "    .dataframe tbody tr th:only-of-type {\n",
              "        vertical-align: middle;\n",
              "    }\n",
              "\n",
              "    .dataframe tbody tr th {\n",
              "        vertical-align: top;\n",
              "    }\n",
              "\n",
              "    .dataframe thead th {\n",
              "        text-align: right;\n",
              "    }\n",
              "</style>\n",
              "<table border=\"1\" class=\"dataframe\">\n",
              "  <thead>\n",
              "    <tr style=\"text-align: right;\">\n",
              "      <th></th>\n",
              "      <th>Date</th>\n",
              "      <th>\\nOil volume (m3/day)</th>\n",
              "      <th>Volume of liquid (m3/day)</th>\n",
              "      <th>\\nGas volume (m3/day)</th>\n",
              "      <th>Water volume (m3/day)</th>\n",
              "      <th>Water cut (%)</th>\n",
              "      <th>\\nWorking hours</th>\n",
              "      <th>\\nDynamic level (m)</th>\n",
              "      <th>\\nReservoir pressure (atm)</th>\n",
              "    </tr>\n",
              "  </thead>\n",
              "  <tbody>\n",
              "    <tr>\n",
              "      <th>count</th>\n",
              "      <td>2939</td>\n",
              "      <td>2939.000000</td>\n",
              "      <td>2939.000000</td>\n",
              "      <td>2939.000000</td>\n",
              "      <td>2939.000000</td>\n",
              "      <td>2939.000000</td>\n",
              "      <td>2939.000000</td>\n",
              "      <td>2939.000000</td>\n",
              "      <td>2939.000000</td>\n",
              "    </tr>\n",
              "    <tr>\n",
              "      <th>unique</th>\n",
              "      <td>2939</td>\n",
              "      <td>NaN</td>\n",
              "      <td>NaN</td>\n",
              "      <td>NaN</td>\n",
              "      <td>NaN</td>\n",
              "      <td>NaN</td>\n",
              "      <td>NaN</td>\n",
              "      <td>NaN</td>\n",
              "      <td>NaN</td>\n",
              "    </tr>\n",
              "    <tr>\n",
              "      <th>top</th>\n",
              "      <td>2013-01-01 00:00:00</td>\n",
              "      <td>NaN</td>\n",
              "      <td>NaN</td>\n",
              "      <td>NaN</td>\n",
              "      <td>NaN</td>\n",
              "      <td>NaN</td>\n",
              "      <td>NaN</td>\n",
              "      <td>NaN</td>\n",
              "      <td>NaN</td>\n",
              "    </tr>\n",
              "    <tr>\n",
              "      <th>freq</th>\n",
              "      <td>1</td>\n",
              "      <td>NaN</td>\n",
              "      <td>NaN</td>\n",
              "      <td>NaN</td>\n",
              "      <td>NaN</td>\n",
              "      <td>NaN</td>\n",
              "      <td>NaN</td>\n",
              "      <td>NaN</td>\n",
              "      <td>NaN</td>\n",
              "    </tr>\n",
              "    <tr>\n",
              "      <th>first</th>\n",
              "      <td>2013-01-01 00:00:00</td>\n",
              "      <td>NaN</td>\n",
              "      <td>NaN</td>\n",
              "      <td>NaN</td>\n",
              "      <td>NaN</td>\n",
              "      <td>NaN</td>\n",
              "      <td>NaN</td>\n",
              "      <td>NaN</td>\n",
              "      <td>NaN</td>\n",
              "    </tr>\n",
              "    <tr>\n",
              "      <th>last</th>\n",
              "      <td>2021-01-18 00:00:00</td>\n",
              "      <td>NaN</td>\n",
              "      <td>NaN</td>\n",
              "      <td>NaN</td>\n",
              "      <td>NaN</td>\n",
              "      <td>NaN</td>\n",
              "      <td>NaN</td>\n",
              "      <td>NaN</td>\n",
              "      <td>NaN</td>\n",
              "    </tr>\n",
              "    <tr>\n",
              "      <th>mean</th>\n",
              "      <td>NaN</td>\n",
              "      <td>17.624362</td>\n",
              "      <td>59.464103</td>\n",
              "      <td>4730.146308</td>\n",
              "      <td>41.828853</td>\n",
              "      <td>70.694794</td>\n",
              "      <td>22.344675</td>\n",
              "      <td>1930.383464</td>\n",
              "      <td>157.019054</td>\n",
              "    </tr>\n",
              "    <tr>\n",
              "      <th>std</th>\n",
              "      <td>NaN</td>\n",
              "      <td>9.689026</td>\n",
              "      <td>18.634101</td>\n",
              "      <td>2598.888524</td>\n",
              "      <td>13.056625</td>\n",
              "      <td>9.534203</td>\n",
              "      <td>3.039553</td>\n",
              "      <td>114.543752</td>\n",
              "      <td>32.917150</td>\n",
              "    </tr>\n",
              "    <tr>\n",
              "      <th>min</th>\n",
              "      <td>NaN</td>\n",
              "      <td>0.000000</td>\n",
              "      <td>12.000000</td>\n",
              "      <td>4.000000</td>\n",
              "      <td>9.000000</td>\n",
              "      <td>29.000000</td>\n",
              "      <td>7.000000</td>\n",
              "      <td>1529.000000</td>\n",
              "      <td>100.000000</td>\n",
              "    </tr>\n",
              "    <tr>\n",
              "      <th>25%</th>\n",
              "      <td>NaN</td>\n",
              "      <td>11.000000</td>\n",
              "      <td>50.000000</td>\n",
              "      <td>3041.500000</td>\n",
              "      <td>33.000000</td>\n",
              "      <td>69.000000</td>\n",
              "      <td>22.000000</td>\n",
              "      <td>1855.000000</td>\n",
              "      <td>129.000000</td>\n",
              "    </tr>\n",
              "    <tr>\n",
              "      <th>50%</th>\n",
              "      <td>NaN</td>\n",
              "      <td>15.000000</td>\n",
              "      <td>58.000000</td>\n",
              "      <td>3909.000000</td>\n",
              "      <td>43.000000</td>\n",
              "      <td>73.000000</td>\n",
              "      <td>24.000000</td>\n",
              "      <td>1890.000000</td>\n",
              "      <td>157.000000</td>\n",
              "    </tr>\n",
              "    <tr>\n",
              "      <th>75%</th>\n",
              "      <td>NaN</td>\n",
              "      <td>22.000000</td>\n",
              "      <td>74.000000</td>\n",
              "      <td>5843.500000</td>\n",
              "      <td>50.000000</td>\n",
              "      <td>76.000000</td>\n",
              "      <td>24.000000</td>\n",
              "      <td>2008.000000</td>\n",
              "      <td>185.500000</td>\n",
              "    </tr>\n",
              "    <tr>\n",
              "      <th>max</th>\n",
              "      <td>NaN</td>\n",
              "      <td>49.000000</td>\n",
              "      <td>113.000000</td>\n",
              "      <td>13113.000000</td>\n",
              "      <td>99.000000</td>\n",
              "      <td>100.000000</td>\n",
              "      <td>24.000000</td>\n",
              "      <td>2137.000000</td>\n",
              "      <td>214.000000</td>\n",
              "    </tr>\n",
              "  </tbody>\n",
              "</table>\n",
              "</div>\n",
              "      <button class=\"colab-df-convert\" onclick=\"convertToInteractive('df-fb6cf6c4-f89c-4cc9-9dc5-b789a7e59ced')\"\n",
              "              title=\"Convert this dataframe to an interactive table.\"\n",
              "              style=\"display:none;\">\n",
              "        \n",
              "  <svg xmlns=\"http://www.w3.org/2000/svg\" height=\"24px\"viewBox=\"0 0 24 24\"\n",
              "       width=\"24px\">\n",
              "    <path d=\"M0 0h24v24H0V0z\" fill=\"none\"/>\n",
              "    <path d=\"M18.56 5.44l.94 2.06.94-2.06 2.06-.94-2.06-.94-.94-2.06-.94 2.06-2.06.94zm-11 1L8.5 8.5l.94-2.06 2.06-.94-2.06-.94L8.5 2.5l-.94 2.06-2.06.94zm10 10l.94 2.06.94-2.06 2.06-.94-2.06-.94-.94-2.06-.94 2.06-2.06.94z\"/><path d=\"M17.41 7.96l-1.37-1.37c-.4-.4-.92-.59-1.43-.59-.52 0-1.04.2-1.43.59L10.3 9.45l-7.72 7.72c-.78.78-.78 2.05 0 2.83L4 21.41c.39.39.9.59 1.41.59.51 0 1.02-.2 1.41-.59l7.78-7.78 2.81-2.81c.8-.78.8-2.07 0-2.86zM5.41 20L4 18.59l7.72-7.72 1.47 1.35L5.41 20z\"/>\n",
              "  </svg>\n",
              "      </button>\n",
              "      \n",
              "  <style>\n",
              "    .colab-df-container {\n",
              "      display:flex;\n",
              "      flex-wrap:wrap;\n",
              "      gap: 12px;\n",
              "    }\n",
              "\n",
              "    .colab-df-convert {\n",
              "      background-color: #E8F0FE;\n",
              "      border: none;\n",
              "      border-radius: 50%;\n",
              "      cursor: pointer;\n",
              "      display: none;\n",
              "      fill: #1967D2;\n",
              "      height: 32px;\n",
              "      padding: 0 0 0 0;\n",
              "      width: 32px;\n",
              "    }\n",
              "\n",
              "    .colab-df-convert:hover {\n",
              "      background-color: #E2EBFA;\n",
              "      box-shadow: 0px 1px 2px rgba(60, 64, 67, 0.3), 0px 1px 3px 1px rgba(60, 64, 67, 0.15);\n",
              "      fill: #174EA6;\n",
              "    }\n",
              "\n",
              "    [theme=dark] .colab-df-convert {\n",
              "      background-color: #3B4455;\n",
              "      fill: #D2E3FC;\n",
              "    }\n",
              "\n",
              "    [theme=dark] .colab-df-convert:hover {\n",
              "      background-color: #434B5C;\n",
              "      box-shadow: 0px 1px 3px 1px rgba(0, 0, 0, 0.15);\n",
              "      filter: drop-shadow(0px 1px 2px rgba(0, 0, 0, 0.3));\n",
              "      fill: #FFFFFF;\n",
              "    }\n",
              "  </style>\n",
              "\n",
              "      <script>\n",
              "        const buttonEl =\n",
              "          document.querySelector('#df-fb6cf6c4-f89c-4cc9-9dc5-b789a7e59ced button.colab-df-convert');\n",
              "        buttonEl.style.display =\n",
              "          google.colab.kernel.accessAllowed ? 'block' : 'none';\n",
              "\n",
              "        async function convertToInteractive(key) {\n",
              "          const element = document.querySelector('#df-fb6cf6c4-f89c-4cc9-9dc5-b789a7e59ced');\n",
              "          const dataTable =\n",
              "            await google.colab.kernel.invokeFunction('convertToInteractive',\n",
              "                                                     [key], {});\n",
              "          if (!dataTable) return;\n",
              "\n",
              "          const docLinkHtml = 'Like what you see? Visit the ' +\n",
              "            '<a target=\"_blank\" href=https://colab.research.google.com/notebooks/data_table.ipynb>data table notebook</a>'\n",
              "            + ' to learn more about interactive tables.';\n",
              "          element.innerHTML = '';\n",
              "          dataTable['output_type'] = 'display_data';\n",
              "          await google.colab.output.renderOutput(dataTable, element);\n",
              "          const docLink = document.createElement('div');\n",
              "          docLink.innerHTML = docLinkHtml;\n",
              "          element.appendChild(docLink);\n",
              "        }\n",
              "      </script>\n",
              "    </div>\n",
              "  </div>\n",
              "  "
            ]
          },
          "metadata": {},
          "execution_count": 102
        }
      ]
    },
    {
      "cell_type": "code",
      "source": [
        "df_train_data.isna"
      ],
      "metadata": {
        "colab": {
          "base_uri": "https://localhost:8080/"
        },
        "id": "a8C71ksZ4rio",
        "outputId": "33a9924c-16d5-481b-ba93-74efb0823a56"
      },
      "execution_count": 45,
      "outputs": [
        {
          "output_type": "execute_result",
          "data": {
            "text/plain": [
              "<bound method DataFrame.isna of            Date  \\nOil volume (m3/day)  Volume of liquid (m3/day)  \\\n",
              "0    2013-01-01                   49.0                       70.0   \n",
              "1    2013-01-02                   49.0                       70.0   \n",
              "2    2013-01-03                   49.0                       70.0   \n",
              "3    2013-01-04                   49.0                       70.0   \n",
              "4    2013-01-05                   44.0                       70.0   \n",
              "...         ...                    ...                        ...   \n",
              "2934 2021-01-14                    6.0                       20.0   \n",
              "2935 2021-01-15                    6.0                       20.0   \n",
              "2936 2021-01-16                    6.0                       20.0   \n",
              "2937 2021-01-17                    6.0                       20.0   \n",
              "2938 2021-01-18                    5.0                       18.0   \n",
              "\n",
              "      \\nGas volume (m3/day)  Water volume (m3/day)  Water cut (%)   \\\n",
              "0                   13055.0                   21.0            29.0   \n",
              "1                   13055.0                   21.0            29.0   \n",
              "2                   13055.0                   21.0            29.0   \n",
              "3                   13055.0                   21.0            29.0   \n",
              "4                   11768.0                   26.0            36.0   \n",
              "...                     ...                    ...             ...   \n",
              "2934                 1593.0                   15.0            70.0   \n",
              "2935                 1593.0                   15.0            70.0   \n",
              "2936                 1583.0                   14.0            70.0   \n",
              "2937                 1573.0                   14.0            70.0   \n",
              "2938                 1418.0                   13.0            70.0   \n",
              "\n",
              "      \\nWorking hours  \\nDynamic level (m)  \\nReservoir pressure (atm)  \n",
              "0                24.0               1819.0                       214.0  \n",
              "1                24.0               1836.0                       214.0  \n",
              "2                24.0               1788.0                       214.0  \n",
              "3                24.0               1789.0                       214.0  \n",
              "4                24.0               1825.0                       214.0  \n",
              "...               ...                  ...                         ...  \n",
              "2934             16.0               2101.0                       100.0  \n",
              "2935             16.0               2113.0                       100.0  \n",
              "2936             16.0               2125.0                       100.0  \n",
              "2937             16.0               2125.0                       100.0  \n",
              "2938             15.0               2125.0                       100.0  \n",
              "\n",
              "[2939 rows x 9 columns]>"
            ]
          },
          "metadata": {},
          "execution_count": 45
        }
      ]
    },
    {
      "cell_type": "code",
      "source": [
        "df_train_data_filter = df_train_data[['\\nReservoir pressure (atm)', '\\nOil volume (m3/day)']]\n",
        "df_train_data_filter.head(5)"
      ],
      "metadata": {
        "colab": {
          "base_uri": "https://localhost:8080/",
          "height": 206
        },
        "id": "jlokZiXI_Rdm",
        "outputId": "6f42a7a4-b4be-4a1f-e841-dea336560461"
      },
      "execution_count": 41,
      "outputs": [
        {
          "output_type": "execute_result",
          "data": {
            "text/plain": [
              "   \\nReservoir pressure (atm)  \\nOil volume (m3/day)\n",
              "0                       214.0                   49.0\n",
              "1                       214.0                   49.0\n",
              "2                       214.0                   49.0\n",
              "3                       214.0                   49.0\n",
              "4                       214.0                   44.0"
            ],
            "text/html": [
              "\n",
              "  <div id=\"df-827d94ee-8407-492c-9c4d-d95e2ddc8b70\">\n",
              "    <div class=\"colab-df-container\">\n",
              "      <div>\n",
              "<style scoped>\n",
              "    .dataframe tbody tr th:only-of-type {\n",
              "        vertical-align: middle;\n",
              "    }\n",
              "\n",
              "    .dataframe tbody tr th {\n",
              "        vertical-align: top;\n",
              "    }\n",
              "\n",
              "    .dataframe thead th {\n",
              "        text-align: right;\n",
              "    }\n",
              "</style>\n",
              "<table border=\"1\" class=\"dataframe\">\n",
              "  <thead>\n",
              "    <tr style=\"text-align: right;\">\n",
              "      <th></th>\n",
              "      <th>\\nReservoir pressure (atm)</th>\n",
              "      <th>\\nOil volume (m3/day)</th>\n",
              "    </tr>\n",
              "  </thead>\n",
              "  <tbody>\n",
              "    <tr>\n",
              "      <th>0</th>\n",
              "      <td>214.0</td>\n",
              "      <td>49.0</td>\n",
              "    </tr>\n",
              "    <tr>\n",
              "      <th>1</th>\n",
              "      <td>214.0</td>\n",
              "      <td>49.0</td>\n",
              "    </tr>\n",
              "    <tr>\n",
              "      <th>2</th>\n",
              "      <td>214.0</td>\n",
              "      <td>49.0</td>\n",
              "    </tr>\n",
              "    <tr>\n",
              "      <th>3</th>\n",
              "      <td>214.0</td>\n",
              "      <td>49.0</td>\n",
              "    </tr>\n",
              "    <tr>\n",
              "      <th>4</th>\n",
              "      <td>214.0</td>\n",
              "      <td>44.0</td>\n",
              "    </tr>\n",
              "  </tbody>\n",
              "</table>\n",
              "</div>\n",
              "      <button class=\"colab-df-convert\" onclick=\"convertToInteractive('df-827d94ee-8407-492c-9c4d-d95e2ddc8b70')\"\n",
              "              title=\"Convert this dataframe to an interactive table.\"\n",
              "              style=\"display:none;\">\n",
              "        \n",
              "  <svg xmlns=\"http://www.w3.org/2000/svg\" height=\"24px\"viewBox=\"0 0 24 24\"\n",
              "       width=\"24px\">\n",
              "    <path d=\"M0 0h24v24H0V0z\" fill=\"none\"/>\n",
              "    <path d=\"M18.56 5.44l.94 2.06.94-2.06 2.06-.94-2.06-.94-.94-2.06-.94 2.06-2.06.94zm-11 1L8.5 8.5l.94-2.06 2.06-.94-2.06-.94L8.5 2.5l-.94 2.06-2.06.94zm10 10l.94 2.06.94-2.06 2.06-.94-2.06-.94-.94-2.06-.94 2.06-2.06.94z\"/><path d=\"M17.41 7.96l-1.37-1.37c-.4-.4-.92-.59-1.43-.59-.52 0-1.04.2-1.43.59L10.3 9.45l-7.72 7.72c-.78.78-.78 2.05 0 2.83L4 21.41c.39.39.9.59 1.41.59.51 0 1.02-.2 1.41-.59l7.78-7.78 2.81-2.81c.8-.78.8-2.07 0-2.86zM5.41 20L4 18.59l7.72-7.72 1.47 1.35L5.41 20z\"/>\n",
              "  </svg>\n",
              "      </button>\n",
              "      \n",
              "  <style>\n",
              "    .colab-df-container {\n",
              "      display:flex;\n",
              "      flex-wrap:wrap;\n",
              "      gap: 12px;\n",
              "    }\n",
              "\n",
              "    .colab-df-convert {\n",
              "      background-color: #E8F0FE;\n",
              "      border: none;\n",
              "      border-radius: 50%;\n",
              "      cursor: pointer;\n",
              "      display: none;\n",
              "      fill: #1967D2;\n",
              "      height: 32px;\n",
              "      padding: 0 0 0 0;\n",
              "      width: 32px;\n",
              "    }\n",
              "\n",
              "    .colab-df-convert:hover {\n",
              "      background-color: #E2EBFA;\n",
              "      box-shadow: 0px 1px 2px rgba(60, 64, 67, 0.3), 0px 1px 3px 1px rgba(60, 64, 67, 0.15);\n",
              "      fill: #174EA6;\n",
              "    }\n",
              "\n",
              "    [theme=dark] .colab-df-convert {\n",
              "      background-color: #3B4455;\n",
              "      fill: #D2E3FC;\n",
              "    }\n",
              "\n",
              "    [theme=dark] .colab-df-convert:hover {\n",
              "      background-color: #434B5C;\n",
              "      box-shadow: 0px 1px 3px 1px rgba(0, 0, 0, 0.15);\n",
              "      filter: drop-shadow(0px 1px 2px rgba(0, 0, 0, 0.3));\n",
              "      fill: #FFFFFF;\n",
              "    }\n",
              "  </style>\n",
              "\n",
              "      <script>\n",
              "        const buttonEl =\n",
              "          document.querySelector('#df-827d94ee-8407-492c-9c4d-d95e2ddc8b70 button.colab-df-convert');\n",
              "        buttonEl.style.display =\n",
              "          google.colab.kernel.accessAllowed ? 'block' : 'none';\n",
              "\n",
              "        async function convertToInteractive(key) {\n",
              "          const element = document.querySelector('#df-827d94ee-8407-492c-9c4d-d95e2ddc8b70');\n",
              "          const dataTable =\n",
              "            await google.colab.kernel.invokeFunction('convertToInteractive',\n",
              "                                                     [key], {});\n",
              "          if (!dataTable) return;\n",
              "\n",
              "          const docLinkHtml = 'Like what you see? Visit the ' +\n",
              "            '<a target=\"_blank\" href=https://colab.research.google.com/notebooks/data_table.ipynb>data table notebook</a>'\n",
              "            + ' to learn more about interactive tables.';\n",
              "          element.innerHTML = '';\n",
              "          dataTable['output_type'] = 'display_data';\n",
              "          await google.colab.output.renderOutput(dataTable, element);\n",
              "          const docLink = document.createElement('div');\n",
              "          docLink.innerHTML = docLinkHtml;\n",
              "          element.appendChild(docLink);\n",
              "        }\n",
              "      </script>\n",
              "    </div>\n",
              "  </div>\n",
              "  "
            ]
          },
          "metadata": {},
          "execution_count": 41
        }
      ]
    },
    {
      "cell_type": "code",
      "source": [
        "df_train_data_filter.plot.scatter(x = '\\nReservoir pressure (atm)',\n",
        "                          y = '\\nOil volume (m3/day)',\n",
        "                          c = 'Darkblue')\n",
        "plt.title('Plot \\nReservoir pressure (atm) Against the  \\nOil volume (m3/day)')\n",
        "plt.show()"
      ],
      "metadata": {
        "colab": {
          "base_uri": "https://localhost:8080/",
          "height": 337
        },
        "id": "94N19gKr5d-K",
        "outputId": "f0a693d9-dd74-4e2f-ddc2-498ad7da1d5f"
      },
      "execution_count": 54,
      "outputs": [
        {
          "output_type": "display_data",
          "data": {
            "text/plain": [
              "<Figure size 432x288 with 1 Axes>"
            ],
            "image/png": "[encoded data removed]"
          },
          "metadata": {
            "needs_background": "light"
          }
        }
      ]
    },
    {
      "cell_type": "code",
      "source": [
        "from sklearn.linear_model import LinearRegression\n",
        "from sklearn.model_selection import train_test_split"
      ],
      "metadata": {
        "id": "39TKWrvI596R"
      },
      "execution_count": 55,
      "outputs": []
    },
    {
      "cell_type": "code",
      "source": [
        "x = df_train_data_filter['\\nReservoir pressure (atm)']\n",
        "y = df_train_data_filter['\\nOil volume (m3/day)']"
      ],
      "metadata": {
        "id": "NTCPefzw_Xed"
      },
      "execution_count": 56,
      "outputs": []
    },
    {
      "cell_type": "code",
      "source": [
        "print(x.shape, y.shape)"
      ],
      "metadata": {
        "colab": {
          "base_uri": "https://localhost:8080/"
        },
        "id": "lCH89VxQAW1o",
        "outputId": "8dab94f1-c5ee-408e-c0e9-4ac1018571d7"
      },
      "execution_count": 57,
      "outputs": [
        {
          "output_type": "stream",
          "name": "stdout",
          "text": [
            "(2939,) (2939,)\n"
          ]
        }
      ]
    },
    {
      "cell_type": "code",
      "source": [
        "from pandas.core.common import random_state\n",
        "x_train, x_test, y_train, y_test = train_test_split(x, y,\n",
        "                                                    test_size = 0.3,\n",
        "                                                    random_state=42)"
      ],
      "metadata": {
        "id": "mMFNwZNG6TPW"
      },
      "execution_count": 58,
      "outputs": []
    },
    {
      "cell_type": "code",
      "source": [
        "print(x_train.shape)\n",
        "print(x_test.shape)\n",
        "print(y_train.shape)\n",
        "print(y_test.shape)"
      ],
      "metadata": {
        "colab": {
          "base_uri": "https://localhost:8080/"
        },
        "id": "ipDallQ8BMjj",
        "outputId": "6f053d71-f44b-45a0-8d42-dbb9d76b1234"
      },
      "execution_count": 59,
      "outputs": [
        {
          "output_type": "stream",
          "name": "stdout",
          "text": [
            "(2057,)\n",
            "(882,)\n",
            "(2057,)\n",
            "(882,)\n"
          ]
        }
      ]
    },
    {
      "cell_type": "code",
      "source": [
        "type(x_train)"
      ],
      "metadata": {
        "colab": {
          "base_uri": "https://localhost:8080/"
        },
        "id": "7sc1Q1oRCFqz",
        "outputId": "7aa2d829-1ab3-47ab-fb2d-c1d2466b89ea"
      },
      "execution_count": 60,
      "outputs": [
        {
          "output_type": "execute_result",
          "data": {
            "text/plain": [
              "pandas.core.series.Series"
            ]
          },
          "metadata": {},
          "execution_count": 60
        }
      ]
    },
    {
      "cell_type": "code",
      "source": [
        "x_train = x_train.to_numpy() # if you try to reshape it but if it does not work the convert it to numpy\n",
        "type(x_train)"
      ],
      "metadata": {
        "colab": {
          "base_uri": "https://localhost:8080/"
        },
        "id": "yWHiK8M_CW8R",
        "outputId": "0531ad08-b562-4f95-8a47-b6106d521715"
      },
      "execution_count": 61,
      "outputs": [
        {
          "output_type": "execute_result",
          "data": {
            "text/plain": [
              "numpy.ndarray"
            ]
          },
          "metadata": {},
          "execution_count": 61
        }
      ]
    },
    {
      "cell_type": "code",
      "source": [
        "x_train.shape"
      ],
      "metadata": {
        "colab": {
          "base_uri": "https://localhost:8080/"
        },
        "id": "WzcY5-prCmTg",
        "outputId": "acd9dffd-d2bc-4a47-ddc8-146cbf0dcdc7"
      },
      "execution_count": 62,
      "outputs": [
        {
          "output_type": "execute_result",
          "data": {
            "text/plain": [
              "(2057,)"
            ]
          },
          "metadata": {},
          "execution_count": 62
        }
      ]
    },
    {
      "cell_type": "code",
      "source": [
        "x_train.reshape(-1,1).shape"
      ],
      "metadata": {
        "colab": {
          "base_uri": "https://localhost:8080/"
        },
        "id": "b4rMJtpZCsXa",
        "outputId": "719e66e9-e168-4d15-b400-cd53b1542da7"
      },
      "execution_count": 63,
      "outputs": [
        {
          "output_type": "execute_result",
          "data": {
            "text/plain": [
              "(2057, 1)"
            ]
          },
          "metadata": {},
          "execution_count": 63
        }
      ]
    },
    {
      "cell_type": "code",
      "source": [
        "#x_train = x_train.reshape(-1, 1)\n",
        "x_test = x_test.to_numpy()\n",
        "type(x_test)"
      ],
      "metadata": {
        "colab": {
          "base_uri": "https://localhost:8080/"
        },
        "id": "uabzMMa9C8st",
        "outputId": "3be04d96-4286-4157-91b5-f8fde7fe1ea2"
      },
      "execution_count": 64,
      "outputs": [
        {
          "output_type": "execute_result",
          "data": {
            "text/plain": [
              "numpy.ndarray"
            ]
          },
          "metadata": {},
          "execution_count": 64
        }
      ]
    },
    {
      "cell_type": "code",
      "source": [
        "x_test.reshape(-1,1).shape"
      ],
      "metadata": {
        "colab": {
          "base_uri": "https://localhost:8080/"
        },
        "id": "nPGjuTorDGPB",
        "outputId": "95948e83-c126-41cb-dc75-32497c7e6c56"
      },
      "execution_count": 65,
      "outputs": [
        {
          "output_type": "execute_result",
          "data": {
            "text/plain": [
              "(882, 1)"
            ]
          },
          "metadata": {},
          "execution_count": 65
        }
      ]
    },
    {
      "cell_type": "code",
      "source": [
        "x_train = x_train.reshape(-1,1)\n",
        "x_test = x_test.reshape(-1,1)"
      ],
      "metadata": {
        "id": "xAQmBIrvDVCH"
      },
      "execution_count": 66,
      "outputs": []
    },
    {
      "cell_type": "code",
      "source": [
        "print(x_train.shape)\n",
        "print(x_test.shape)"
      ],
      "metadata": {
        "colab": {
          "base_uri": "https://localhost:8080/"
        },
        "id": "UhvZX_WADbhR",
        "outputId": "95e18420-4c6f-40c9-d248-e83b92ccac1d"
      },
      "execution_count": 67,
      "outputs": [
        {
          "output_type": "stream",
          "name": "stdout",
          "text": [
            "(2057, 1)\n",
            "(882, 1)\n"
          ]
        }
      ]
    },
    {
      "cell_type": "code",
      "source": [
        "lr = LinearRegression()\n",
        "lr.fit(x_train, y_train)"
      ],
      "metadata": {
        "colab": {
          "base_uri": "https://localhost:8080/"
        },
        "id": "qnjsI7NCDmD1",
        "outputId": "71f2738d-629b-43d2-d88e-b858776212bf"
      },
      "execution_count": 87,
      "outputs": [
        {
          "output_type": "execute_result",
          "data": {
            "text/plain": [
              "LinearRegression()"
            ]
          },
          "metadata": {},
          "execution_count": 87
        }
      ]
    },
    {
      "cell_type": "code",
      "source": [
        "lr.score(x_train, y_train)"
      ],
      "metadata": {
        "colab": {
          "base_uri": "https://localhost:8080/"
        },
        "id": "YWivuJoiDsZG",
        "outputId": "8c72a47c-96a3-4b94-9df6-1e384e17129b"
      },
      "execution_count": 88,
      "outputs": [
        {
          "output_type": "execute_result",
          "data": {
            "text/plain": [
              "0.7062701117632425"
            ]
          },
          "metadata": {},
          "execution_count": 88
        }
      ]
    },
    {
      "cell_type": "code",
      "source": [
        "lr.score(x_test, y_test)"
      ],
      "metadata": {
        "colab": {
          "base_uri": "https://localhost:8080/"
        },
        "id": "ZpTsWYbLD-KC",
        "outputId": "6bf2dbf8-fee8-4244-f4eb-4ed629670ca7"
      },
      "execution_count": 89,
      "outputs": [
        {
          "output_type": "execute_result",
          "data": {
            "text/plain": [
              "0.7258341978582271"
            ]
          },
          "metadata": {},
          "execution_count": 89
        }
      ]
    },
    {
      "cell_type": "code",
      "source": [
        "lr.predict([x_train[0]])"
      ],
      "metadata": {
        "colab": {
          "base_uri": "https://localhost:8080/"
        },
        "id": "6MSHphJMEH-K",
        "outputId": "ce9e7a86-038d-4372-c973-e542681c1fdc"
      },
      "execution_count": 90,
      "outputs": [
        {
          "output_type": "execute_result",
          "data": {
            "text/plain": [
              "array([15.94963202])"
            ]
          },
          "metadata": {},
          "execution_count": 90
        }
      ]
    },
    {
      "cell_type": "markdown",
      "source": [
        "**Check actuall value to make sure there is no mush gap**"
      ],
      "metadata": {
        "id": "02iMAwnrEN4S"
      }
    },
    {
      "cell_type": "code",
      "source": [
        "y_train[0]"
      ],
      "metadata": {
        "colab": {
          "base_uri": "https://localhost:8080/"
        },
        "id": "J677u_uLEZEU",
        "outputId": "6450844a-47f4-4f58-b4b6-bd61afaf3fdd"
      },
      "execution_count": 91,
      "outputs": [
        {
          "output_type": "execute_result",
          "data": {
            "text/plain": [
              "49.0"
            ]
          },
          "metadata": {},
          "execution_count": 91
        }
      ]
    },
    {
      "cell_type": "markdown",
      "source": [
        "**Model Interpretation**"
      ],
      "metadata": {
        "id": "oHOzF082IrsH"
      }
    },
    {
      "cell_type": "code",
      "source": [
        "lr.coef_"
      ],
      "metadata": {
        "colab": {
          "base_uri": "https://localhost:8080/"
        },
        "id": "Z0Y-x-LKIyje",
        "outputId": "82bc65e3-84ae-41b6-d6fd-5d9a9a0f1219"
      },
      "execution_count": 92,
      "outputs": [
        {
          "output_type": "execute_result",
          "data": {
            "text/plain": [
              "array([0.25000761])"
            ]
          },
          "metadata": {},
          "execution_count": 92
        }
      ]
    },
    {
      "cell_type": "code",
      "source": [
        "lr.intercept_"
      ],
      "metadata": {
        "colab": {
          "base_uri": "https://localhost:8080/"
        },
        "id": "lrIYp2MlI6ZX",
        "outputId": "9f7e1367-5e83-47ee-a25b-f1b4409dbd54"
      },
      "execution_count": 93,
      "outputs": [
        {
          "output_type": "execute_result",
          "data": {
            "text/plain": [
              "-21.551509633651154"
            ]
          },
          "metadata": {},
          "execution_count": 93
        }
      ]
    },
    {
      "cell_type": "markdown",
      "source": [
        "**MODEL INTERPRETATION Understanding what the model parameters are**"
      ],
      "metadata": {
        "id": "tUvHmTlJJQBc"
      }
    },
    {
      "cell_type": "code",
      "source": [
        "plt.scatter(y_train, x_train)\n",
        "plt.plot([x[0], y[0]],\n",
        "         [x[50], y[50]])\n",
        "plt.title('Plot \\nReservoir pressure (atm) against \\nOil volume (m3/day)')\n",
        "plt.show()"
      ],
      "metadata": {
        "colab": {
          "base_uri": "https://localhost:8080/",
          "height": 311
        },
        "id": "ryOCzyqPJS0G",
        "outputId": "03024f19-e45b-4831-c3b0-9280ee57871b"
      },
      "execution_count": 100,
      "outputs": [
        {
          "output_type": "display_data",
          "data": {
            "text/plain": [
              "<Figure size 432x288 with 1 Axes>"
            ],
            "image/png": "[encoded data removed]"
          },
          "metadata": {
            "needs_background": "light"
          }
        }
      ]
    }
  ]
}